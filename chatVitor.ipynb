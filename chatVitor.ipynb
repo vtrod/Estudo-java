{
  "cells": [
    {
      "cell_type": "markdown",
      "metadata": {
        "id": "view-in-github",
        "colab_type": "text"
      },
      "source": [
        "<a href=\"https://colab.research.google.com/github/vtrod/Estudo-java/blob/main/chatVitor.ipynb\" target=\"_parent\"><img src=\"https://colab.research.google.com/assets/colab-badge.svg\" alt=\"Open In Colab\"/></a>"
      ]
    },
    {
      "cell_type": "code",
      "source": [
        "import os\n",
        "import random\n",
        "import numpy as np\n",
        "import seaborn as sns\n",
        "import sklearn\n",
        "import pandas as pd\n",
        "import re #expressoes regulares"
      ],
      "metadata": {
        "id": "_W_GInHbzhc1"
      },
      "execution_count": 1,
      "outputs": []
    },
    {
      "cell_type": "code",
      "source": [
        "pip install nltk"
      ],
      "metadata": {
        "colab": {
          "base_uri": "https://localhost:8080/"
        },
        "id": "WeEnhjrwzo19",
        "outputId": "93e8e249-86f8-4182-b1d1-3075dd256fcc"
      },
      "execution_count": 2,
      "outputs": [
        {
          "output_type": "stream",
          "name": "stdout",
          "text": [
            "Requirement already satisfied: nltk in /usr/local/lib/python3.10/dist-packages (3.8.1)\n",
            "Requirement already satisfied: click in /usr/local/lib/python3.10/dist-packages (from nltk) (8.1.7)\n",
            "Requirement already satisfied: joblib in /usr/local/lib/python3.10/dist-packages (from nltk) (1.3.2)\n",
            "Requirement already satisfied: regex>=2021.8.3 in /usr/local/lib/python3.10/dist-packages (from nltk) (2023.12.25)\n",
            "Requirement already satisfied: tqdm in /usr/local/lib/python3.10/dist-packages (from nltk) (4.66.2)\n"
          ]
        }
      ]
    },
    {
      "cell_type": "code",
      "source": [
        "import nltk\n",
        "nltk.chat.eliza.demo()"
      ],
      "metadata": {
        "colab": {
          "base_uri": "https://localhost:8080/"
        },
        "id": "4gJZ-Y1MzzVd",
        "outputId": "069bc3f0-a6bd-48b1-a962-ce5ff9a2e68a"
      },
      "execution_count": 11,
      "outputs": [
        {
          "output_type": "stream",
          "name": "stdout",
          "text": [
            "Therapist\n",
            "---------\n",
            "Talk to the program by typing in plain English, using normal upper-\n",
            "and lower-case letters and punctuation.  Enter \"quit\" when done.\n",
            "========================================================================\n",
            "Hello.  How are you feeling today?\n",
            ">good and you?\n",
            "Why do you ask that?\n",
            ">because i want to\n",
            "If you want to, what else must be true?\n",
            ">that you're fine\n",
            "How does that make you feel?\n",
            ">bad. you're not asking me\n",
            "Why do you say that bad. me're not asking you?\n",
            ">eliza, im i a good person?\n",
            "Why do you ask that?\n",
            ">because i want to know \n",
            "Is that the real reason?\n",
            ">yes\n",
            "You seem quite sure.\n",
            ">im sure\n",
            "Can you elaborate on that?\n",
            ">no\n",
            "I see.  And what does that tell you?\n",
            ">i dont know, you are not saying anything\n",
            "Can you elaborate on that?\n",
            ">yes\n",
            "You seem quite sure.\n",
            ">yes\n",
            "OK, but can you elaborate a bit?\n",
            ">yes\n",
            "OK, but can you elaborate a bit?\n",
            ">ok\n",
            "Please tell me more.\n",
            ">uhum\n",
            "I see.  And what does that tell you?\n",
            ">quit\n",
            "Thank you, that will be $150.  Have a good day!\n"
          ]
        }
      ]
    },
    {
      "cell_type": "code",
      "source": [
        "import nltk\n",
        "from nltk.chat.util import Chat, reflections"
      ],
      "metadata": {
        "id": "ZdX_hEShz66v"
      },
      "execution_count": 12,
      "outputs": []
    },
    {
      "cell_type": "code",
      "source": [
        "reflections_pt = {\n",
        "    'eu': 'você',\n",
        "    'eu sou': 'você é',\n",
        "    'eu era': 'você era',\n",
        "    \"eu iria\": 'você iria',\n",
        "    \"eu irei\": 'você irá',\n",
        "    'meu': 'seu',\n",
        "    'você': 'eu',\n",
        "    'você é': 'eu sou',\n",
        "    'você era': 'eu era',\n",
        "    \"você irá\": 'eu irei',\n",
        "    'seu': 'meu',\n",
        "    'você tem': 'eu tenho',\n",
        "    'você faz': 'eu faço',\n",
        "    'você gosta': 'eu gosto',\n",
        "    'você sabe': 'eu sei',\n",
        "    'você quer': 'eu quero',\n",
        "    'você pode': 'eu posso',\n",
        "    'você vai': 'eu vou',\n",
        "    'você estava': 'eu estava',\n",
        "    'você terá': 'eu terei',\n",
        "    'você estava': 'eu estava',\n",
        "    'você teve': 'eu tive',\n",
        "    'você é': 'eu sou',\n",
        "    'você era': 'eu era',\n",
        "    'você será': 'eu serei',\n",
        "    'você já foi': 'eu já fui',\n",
        "    'você já era': 'eu já era',\n",
        "    'você já será': 'eu já serei',\n",
        "    'você já foi': 'eu já fui',\n",
        "    'você já teve': 'eu já tive',\n",
        "    'você já está': 'eu já estou',\n",
        "    'você já irá': 'eu já irei',\n",
        "    'você já esteve': 'eu já estive',\n",
        "    'você já tinha': 'eu já tinha',\n",
        "    'você já esteve': 'eu já estive',\n",
        "    'você já tinha': 'eu já tinha',\n",
        "    'você já terá': 'eu já terei',\n",
        "    'você já teve': 'eu já tive',\n",
        "    'você já é': 'eu já sou',\n",
        "    'você já era': 'eu já era',\n",
        "    'você já será': 'eu já serei',\n",
        "    'você já foi': 'eu já fui',\n",
        "    'você já irá': 'eu já irei',\n",
        "    'você já foi': 'eu já fui',\n",
        "    'você já teve': 'eu já tive',\n",
        "    'você já estava': 'eu já estava',\n",
        "    'você já esteve': 'eu já estive',\n",
        "    'você já tinha': 'eu já tinha',\n",
        "    'você já teve': 'eu já tive',\n",
        "    'você já está': 'eu já estou',\n",
        "    'você já foi': 'eu já fui',\n",
        "    'você já é': 'eu já sou',\n",
        "    'você já era': 'eu já era',\n",
        "    'você já será': 'eu já serei',\n",
        "    'você já tem': 'eu já tenho',\n",
        "    'você já faz': 'eu já faço',\n",
        "    'você já gosta': 'eu já gosto',\n",
        "    'você já sabe': 'eu já sei',\n",
        "    'você já quer': 'eu já quero',\n",
        "    'você já pode': 'eu já posso',\n",
        "    'você já vai': 'eu já vou',\n",
        "    'você já estava': 'eu já estava',\n",
        "    'você já terá': 'eu já terei',\n",
        "    'você já estava': 'eu já estava',\n",
        "    'você já teve': 'eu já tive',\n",
        "    }"
      ],
      "metadata": {
        "id": "0fQAfP3S5Oau"
      },
      "execution_count": null,
      "outputs": []
    },
    {
      "cell_type": "code",
      "source": [
        "pares = [\n",
        "    [\n",
        "        r'oi|olá|opa|ola',\n",
        "        ['olá', 'como vai?', 'tudo bem?']\n",
        "    ],\n",
        "    [\n",
        "        r'qual é o seu nome?',\n",
        "        ['Meu nome é Chat e eu sou um chatbot']\n",
        "    ],\n",
        "    [\n",
        "        r'(.*) idade?',\n",
        "        ['Não tenho idade pois sou um chatbot']\n",
        "    ],\n",
        "    [\n",
        "        r'meu nome é (.*)',\n",
        "        ['Olá %1, como você está hoje?']\n",
        "    ],\n",
        "    [\n",
        "        r'eu trabalho na empresa (.*)',\n",
        "        ['Eu conheço a empresa %1']\n",
        "    ],\n",
        "    [\n",
        "        r'(.*) (cidade|país)',\n",
        "        ['Porto União, Brasil']\n",
        "    ],\n",
        "    [\n",
        "        r'como você está?',\n",
        "        ['Estou bem, obrigado por perguntar. E você?']\n",
        "    ],\n",
        "    [\n",
        "        r'você gosta de (.*)\\?',\n",
        "        ['Sim, eu gosto de %1. E você?']\n",
        "    ],\n",
        "    [\n",
        "        r'o que você pode fazer\\?',\n",
        "        ['Eu posso ajudar com várias coisas, como responder perguntas, fornecer informações e até mesmo bater um papo!']\n",
        "    ],\n",
        "    [\n",
        "        r'você pode me ajudar\\?',\n",
        "        ['Claro! Estou aqui para ajudar. O que você precisa?']\n",
        "    ],\n",
        "    [\n",
        "        r'o que é (.*)\\?',\n",
        "        ['Desculpe, não tenho conhecimento sobre %1 no momento.']\n",
        "    ],\n",
        "    [\n",
        "        r'você pode me contar uma piada\\?',\n",
        "        ['Claro, lá vai uma piada: Por que o livro de matemática ficou de castigo? Porque ele tinha muitos problemas.']\n",
        "    ],\n",
        "    [\n",
        "        r'obrigado|valeu|agradecido',\n",
        "        ['De nada! Estou sempre aqui para ajudar.']\n",
        "    ],\n",
        "    [\n",
        "        r'tchau|até logo|adeus',\n",
        "        ['Até breve', 'Foi bom conversar com você. Até logo!']\n",
        "    ],\n",
        "    [\n",
        "        r'como você aprendeu a ser um chatbot\\?',\n",
        "        ['Eu fui programado por desenvolvedores talentosos para aprender e interagir com pessoas como você!']\n",
        "    ],\n",
        "    [\n",
        "        r'você tem alguma sugestão para passar o tempo livre\\?',\n",
        "        ['Que tal ler um livro, ouvir música, praticar um hobby ou assistir a um filme?']\n",
        "    ],\n",
        "    [\n",
        "        r'qual é a sua cor favorita\\?',\n",
        "        ['Eu não tenho uma cor favorita, pois sou apenas um programa de computador.']\n",
        "    ],\n",
        "    [\n",
        "        r'você já viu algum filme interessante recentemente\\?',\n",
        "        ['Como eu sou um programa de computador, não posso assistir filmes, mas posso recomendar alguns com base em avaliações!']\n",
        "    ]\n",
        "]\n"
      ],
      "metadata": {
        "id": "ire42oqt5RNu"
      },
      "execution_count": 19,
      "outputs": []
    },
    {
      "cell_type": "code",
      "source": [
        "pares.append([\n",
        "    r'futebol|time|jogo|partida',\n",
        "    ['Futebol é um esporte popular em todo o mundo. As pessoas são apaixonadas por seus times e jogos. Qual é o seu time favorito?']\n",
        "])\n",
        "\n",
        "pares.append([\n",
        "    r'quem é seu time favorito\\?',\n",
        "    ['Como sou apenas um programa de computador, não tenho um time favorito. Mas admiro a paixão das pessoas pelos seus times. E você, qual é o seu time favorito?']\n",
        "])\n",
        "\n",
        "pares.append([\n",
        "    r'jogador favorito|quem você admira no futebol\\?',\n",
        "    ['Como sou um chatbot, não tenho preferências pessoais. Mas muitas pessoas admiram jogadores como Lionel Messi, Cristiano Ronaldo, Neymar, entre outros. E você, tem algum jogador favorito?']\n",
        "])\n",
        "\n",
        "pares.append([\n",
        "    r'copa do mundo',\n",
        "    ['A Copa do Mundo de Futebol é um dos eventos esportivos mais assistidos e emocionantes do mundo. Qual foi o seu momento favorito da última Copa do Mundo?']\n",
        "])\n",
        "\n",
        "pares.append([\n",
        "    r'quem venceu a última copa do mundo\\?',\n",
        "    ['A França foi a campeã da última Copa do Mundo, realizada em 2018, na Rússia.']\n",
        "])\n",
        "\n",
        "pares.append([\n",
        "    r'quando será a próxima copa do mundo\\?',\n",
        "    ['A próxima Copa do Mundo será em 2022, no Catar.']\n",
        "])\n",
        "\n",
        "pares.append([\n",
        "    r'futebol feminino',\n",
        "    ['O futebol feminino tem crescido muito em popularidade e reconhecimento nos últimos anos, com mais investimento e visibilidade.']\n",
        "])\n",
        "\n",
        "pares.append([\n",
        "    r'quem venceu a última copa do mundo feminina\\?',\n",
        "    ['Os Estados Unidos venceram a última Copa do Mundo Feminina, realizada em 2019, na França.']\n",
        "])\n"
      ],
      "metadata": {
        "id": "13YT1b_H7VVO"
      },
      "execution_count": 20,
      "outputs": []
    },
    {
      "cell_type": "code",
      "source": [
        "print('Olá, sou o chat!')\n",
        "chat = Chat(pares, reflections_pt)\n",
        "chat.converse()"
      ],
      "metadata": {
        "colab": {
          "base_uri": "https://localhost:8080/",
          "height": 339
        },
        "id": "S7myJHyQ5Tye",
        "outputId": "0394c851-4325-49c5-aa55-0e4afc13b04d"
      },
      "execution_count": 27,
      "outputs": [
        {
          "output_type": "stream",
          "name": "stdout",
          "text": [
            "Olá, sou o chat!\n"
          ]
        },
        {
          "output_type": "error",
          "ename": "KeyboardInterrupt",
          "evalue": "Interrupted by user",
          "traceback": [
            "\u001b[0;31m---------------------------------------------------------------------------\u001b[0m",
            "\u001b[0;31mKeyboardInterrupt\u001b[0m                         Traceback (most recent call last)",
            "\u001b[0;32m<ipython-input-27-3373edc2d216>\u001b[0m in \u001b[0;36m<cell line: 3>\u001b[0;34m()\u001b[0m\n\u001b[1;32m      1\u001b[0m \u001b[0mprint\u001b[0m\u001b[0;34m(\u001b[0m\u001b[0;34m'Olá, sou o chat!'\u001b[0m\u001b[0;34m)\u001b[0m\u001b[0;34m\u001b[0m\u001b[0;34m\u001b[0m\u001b[0m\n\u001b[1;32m      2\u001b[0m \u001b[0mchat\u001b[0m \u001b[0;34m=\u001b[0m \u001b[0mChat\u001b[0m\u001b[0;34m(\u001b[0m\u001b[0mpares\u001b[0m\u001b[0;34m,\u001b[0m \u001b[0mreflections_pt\u001b[0m\u001b[0;34m)\u001b[0m\u001b[0;34m\u001b[0m\u001b[0;34m\u001b[0m\u001b[0m\n\u001b[0;32m----> 3\u001b[0;31m \u001b[0mchat\u001b[0m\u001b[0;34m.\u001b[0m\u001b[0mconverse\u001b[0m\u001b[0;34m(\u001b[0m\u001b[0;34m)\u001b[0m\u001b[0;34m\u001b[0m\u001b[0;34m\u001b[0m\u001b[0m\n\u001b[0m",
            "\u001b[0;32m/usr/local/lib/python3.10/dist-packages/nltk/chat/util.py\u001b[0m in \u001b[0;36mconverse\u001b[0;34m(self, quit)\u001b[0m\n\u001b[1;32m    116\u001b[0m             \u001b[0muser_input\u001b[0m \u001b[0;34m=\u001b[0m \u001b[0mquit\u001b[0m\u001b[0;34m\u001b[0m\u001b[0;34m\u001b[0m\u001b[0m\n\u001b[1;32m    117\u001b[0m             \u001b[0;32mtry\u001b[0m\u001b[0;34m:\u001b[0m\u001b[0;34m\u001b[0m\u001b[0;34m\u001b[0m\u001b[0m\n\u001b[0;32m--> 118\u001b[0;31m                 \u001b[0muser_input\u001b[0m \u001b[0;34m=\u001b[0m \u001b[0minput\u001b[0m\u001b[0;34m(\u001b[0m\u001b[0;34m\">\"\u001b[0m\u001b[0;34m)\u001b[0m\u001b[0;34m\u001b[0m\u001b[0;34m\u001b[0m\u001b[0m\n\u001b[0m\u001b[1;32m    119\u001b[0m             \u001b[0;32mexcept\u001b[0m \u001b[0mEOFError\u001b[0m\u001b[0;34m:\u001b[0m\u001b[0;34m\u001b[0m\u001b[0;34m\u001b[0m\u001b[0m\n\u001b[1;32m    120\u001b[0m                 \u001b[0mprint\u001b[0m\u001b[0;34m(\u001b[0m\u001b[0muser_input\u001b[0m\u001b[0;34m)\u001b[0m\u001b[0;34m\u001b[0m\u001b[0;34m\u001b[0m\u001b[0m\n",
            "\u001b[0;32m/usr/local/lib/python3.10/dist-packages/ipykernel/kernelbase.py\u001b[0m in \u001b[0;36mraw_input\u001b[0;34m(self, prompt)\u001b[0m\n\u001b[1;32m    849\u001b[0m                 \u001b[0;34m\"raw_input was called, but this frontend does not support input requests.\"\u001b[0m\u001b[0;34m\u001b[0m\u001b[0;34m\u001b[0m\u001b[0m\n\u001b[1;32m    850\u001b[0m             )\n\u001b[0;32m--> 851\u001b[0;31m         return self._input_request(str(prompt),\n\u001b[0m\u001b[1;32m    852\u001b[0m             \u001b[0mself\u001b[0m\u001b[0;34m.\u001b[0m\u001b[0m_parent_ident\u001b[0m\u001b[0;34m,\u001b[0m\u001b[0;34m\u001b[0m\u001b[0;34m\u001b[0m\u001b[0m\n\u001b[1;32m    853\u001b[0m             \u001b[0mself\u001b[0m\u001b[0;34m.\u001b[0m\u001b[0m_parent_header\u001b[0m\u001b[0;34m,\u001b[0m\u001b[0;34m\u001b[0m\u001b[0;34m\u001b[0m\u001b[0m\n",
            "\u001b[0;32m/usr/local/lib/python3.10/dist-packages/ipykernel/kernelbase.py\u001b[0m in \u001b[0;36m_input_request\u001b[0;34m(self, prompt, ident, parent, password)\u001b[0m\n\u001b[1;32m    893\u001b[0m             \u001b[0;32mexcept\u001b[0m \u001b[0mKeyboardInterrupt\u001b[0m\u001b[0;34m:\u001b[0m\u001b[0;34m\u001b[0m\u001b[0;34m\u001b[0m\u001b[0m\n\u001b[1;32m    894\u001b[0m                 \u001b[0;31m# re-raise KeyboardInterrupt, to truncate traceback\u001b[0m\u001b[0;34m\u001b[0m\u001b[0;34m\u001b[0m\u001b[0m\n\u001b[0;32m--> 895\u001b[0;31m                 \u001b[0;32mraise\u001b[0m \u001b[0mKeyboardInterrupt\u001b[0m\u001b[0;34m(\u001b[0m\u001b[0;34m\"Interrupted by user\"\u001b[0m\u001b[0;34m)\u001b[0m \u001b[0;32mfrom\u001b[0m \u001b[0;32mNone\u001b[0m\u001b[0;34m\u001b[0m\u001b[0;34m\u001b[0m\u001b[0m\n\u001b[0m\u001b[1;32m    896\u001b[0m             \u001b[0;32mexcept\u001b[0m \u001b[0mException\u001b[0m \u001b[0;32mas\u001b[0m \u001b[0me\u001b[0m\u001b[0;34m:\u001b[0m\u001b[0;34m\u001b[0m\u001b[0;34m\u001b[0m\u001b[0m\n\u001b[1;32m    897\u001b[0m                 \u001b[0mself\u001b[0m\u001b[0;34m.\u001b[0m\u001b[0mlog\u001b[0m\u001b[0;34m.\u001b[0m\u001b[0mwarning\u001b[0m\u001b[0;34m(\u001b[0m\u001b[0;34m\"Invalid Message:\"\u001b[0m\u001b[0;34m,\u001b[0m \u001b[0mexc_info\u001b[0m\u001b[0;34m=\u001b[0m\u001b[0;32mTrue\u001b[0m\u001b[0;34m)\u001b[0m\u001b[0;34m\u001b[0m\u001b[0;34m\u001b[0m\u001b[0m\n",
            "\u001b[0;31mKeyboardInterrupt\u001b[0m: Interrupted by user"
          ]
        }
      ]
    }
  ],
  "metadata": {
    "colab": {
      "name": "Olá, este é o Colaboratory",
      "toc_visible": true,
      "provenance": [],
      "include_colab_link": true
    },
    "kernelspec": {
      "display_name": "Python 3",
      "name": "python3"
    }
  },
  "nbformat": 4,
  "nbformat_minor": 0
}